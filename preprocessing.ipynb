{
 "cells": [
  {
   "cell_type": "markdown",
   "id": "e22ea79c",
   "metadata": {},
   "source": [
    "# Preprocessing\n",
    "\n",
    "1. Create \"boxes\" folder for json box faces\n",
    "2. Do not process if video was already done\n",
    "\n",
    "### Face detection\n",
    "1. Init detector\n",
    "2. Load images\n",
    "3. Detect faces -> dlib \"face_recognition\"\n",
    "4. (optionally) Store face boxes in json file for later processing"
   ]
  },
  {
   "cell_type": "code",
   "execution_count": 1,
   "id": "9a267a0e",
   "metadata": {},
   "outputs": [],
   "source": [
    "import os\n",
    "import pathlib"
   ]
  },
  {
   "cell_type": "code",
   "execution_count": 6,
   "id": "04be302e",
   "metadata": {},
   "outputs": [],
   "source": [
    "INPUT_VIDEO_FOLDER = \"int-tests/test-in\"\n",
    "BOXES_OUTPUT_FOLDER = \"int-tests/test-out\"\n",
    "FRAMES_OUTPUT_FOLDER = \"int-tests/test-boxes\"\n",
    "\n",
    "VIDEO_EXTENSIONS = [\".mp4\"]"
   ]
  },
  {
   "cell_type": "code",
   "execution_count": 3,
   "id": "34ae90be",
   "metadata": {},
   "outputs": [],
   "source": [
    "## Utils\n",
    "\n",
    "def _video_to_json_filename(video_filename):\n",
    "    return f\"{video_filename}.json\""
   ]
  },
  {
   "cell_type": "code",
   "execution_count": 4,
   "id": "19fef741",
   "metadata": {},
   "outputs": [],
   "source": [
    "def _process_video(video_path):\n",
    "    print(\"bjr\")"
   ]
  },
  {
   "cell_type": "code",
   "execution_count": null,
   "id": "22c701cb",
   "metadata": {},
   "outputs": [
    {
     "name": "stdout",
     "output_type": "stream",
     "text": [
      "28__talking_angry_couch.mp4 28__talking_angry_couch .mp4\n"
     ]
    }
   ],
   "source": [
    "already_extracted = os.listdir(BOXES_OUTPUT_FOLDER)\n",
    "\n",
    "for video_path in os.listdir(INPUT_VIDEO_FOLDER):\n",
    "    filename = pathlib.Path(video_path).stem\n",
    "    file_extension = pathlib.Path(video_path).suffix\n",
    "    print(video_path, filename, file_extension)\n",
    "    if file_extension in VIDEO_EXTENSIONS and not _video_to_json_filename(filename) in already_extracted:\n",
    "        _process_video(video_path)"
   ]
  }
 ],
 "metadata": {
  "kernelspec": {
   "display_name": "efficientnet",
   "language": "python",
   "name": "python3"
  },
  "language_info": {
   "codemirror_mode": {
    "name": "ipython",
    "version": 3
   },
   "file_extension": ".py",
   "mimetype": "text/x-python",
   "name": "python",
   "nbconvert_exporter": "python",
   "pygments_lexer": "ipython3",
   "version": "3.14.0"
  }
 },
 "nbformat": 4,
 "nbformat_minor": 5
}
